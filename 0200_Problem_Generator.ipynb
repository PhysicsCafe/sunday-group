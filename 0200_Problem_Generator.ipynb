{
 "cells": [
  {
   "cell_type": "markdown",
   "metadata": {},
   "source": [
    "<a name=top></a>\n",
    "<center>\n",
    "<h1>Problem Generator Notebook</h1>\n",
    "</center>\n",
    "<p>\n",
    "This notebook doesn't go with any particular section of the notes.\n",
    "It is intended to generate \"random\" problems of various types."
   ]
  },
  {
   "cell_type": "markdown",
   "metadata": {},
   "source": [
    "<b><font color=brown>This setup cell below must be run first</font></b>"
   ]
  },
  {
   "cell_type": "code",
   "execution_count": null,
   "metadata": {},
   "outputs": [],
   "source": [
    "%autosave 0\n",
    "%matplotlib inline\n",
    "from sglib import *"
   ]
  },
  {
   "cell_type": "markdown",
   "metadata": {},
   "source": [
    "<h2>Contents</h2>\n",
    "<ul class=ult>\n",
    "    <li> <a href=\"#vector\">Vector Problems</a></li>\n",
    "    <li> <a href=\"#matrix\">Matrix Problems</a></li>\n",
    "    <li> <a href=\"#basis\">Basis Problems</a></li>\n",
    "    <li> <a href=\"#projections\">Draw Projections</a></li>\n",
    "    <li> <a href=\"#electron1\">Electron Spin</a></li>\n",
    "</ul>"
   ]
  },
  {
   "cell_type": "markdown",
   "metadata": {},
   "source": [
    "<hr size=3>\n",
    "<a name=vector></a>\n",
    "<h2><a href=\"#top\">^</a> Vector Problems</h2>\n",
    "<ul class=sp>\n",
    "    <li>This will now generate <i>complex</i> vector problems.</li>\n",
    "    <li>If you want <i>real only</i> problems set: complex=False</li>\n",
    "    <li>Note: \"True\" and \"Fase\" must have the \"T\" or \"F\" capitalized.</li>\n",
    "</ul>"
   ]
  },
  {
   "cell_type": "code",
   "execution_count": null,
   "metadata": {},
   "outputs": [],
   "source": [
    "prob = vector_problem(max_dim=3, max_int=5, complex=True)\n",
    "prob.new()"
   ]
  },
  {
   "cell_type": "code",
   "execution_count": null,
   "metadata": {},
   "outputs": [],
   "source": [
    "answer = sqrt(33)\n",
    "prob.check(answer)"
   ]
  },
  {
   "cell_type": "markdown",
   "metadata": {},
   "source": [
    "<hr size=3>\n",
    "<a name=matrix></a>\n",
    "<h2><a href=\"#top\">^</a> Matrix Problems</h2>\n",
    "<ul class=sp>\n",
    "<li> The answer must be entered in \"matrix format.\" Hopefully we've covered that\n",
    "        in the Sunday meeting. Basically, every <i>row</i> of the matrix is entered\n",
    "        as a list, in parentheses. The the whole thing looks like:\n",
    "        &nbsp;<code>Matrix([ (row2), (row2), ... ])</code>. \n",
    "        <br>Just leave the outer parens and brackets as is, and enter the rows you need. \n",
    "    <br><br>\n",
    "        Example: the matrix\n",
    "    $\\left[\\begin{smallmatrix}1 & 2 & 3\\\\4 & 5 & 6\\\\7 & 8 & 9\\end{smallmatrix}\\right]$\n",
    "    <br><br>\n",
    "    would be entered as: \n",
    "        <br><br>\n",
    "        <code>Matrix([ (1,2,3), (4,5,6), (7,8,9) ])</code></li>\n",
    "<br>\n",
    "<li> You can use the \"Matrix Test\" cell below to see the results of a particular\n",
    "    matrix command.</li>\n",
    "</ul>"
   ]
  },
  {
   "cell_type": "code",
   "execution_count": null,
   "metadata": {},
   "outputs": [],
   "source": [
    "prob = matrix_problem(max_dim=2, max_int=5, complex=True)\n",
    "prob.new()"
   ]
  },
  {
   "cell_type": "code",
   "execution_count": null,
   "metadata": {},
   "outputs": [],
   "source": [
    "answer = Matrix([ (4,8), (7,27) ])\n",
    "prob.check(answer)"
   ]
  },
  {
   "cell_type": "markdown",
   "metadata": {},
   "source": [
    "<b><font color=brown>Matrix Test</font></b>"
   ]
  },
  {
   "cell_type": "code",
   "execution_count": null,
   "metadata": {},
   "outputs": [],
   "source": [
    "M = Matrix([ (1,2,3), (4,5,6), (7,8,9) ])\n",
    "Print('$%s$'%sy.latex(M))  "
   ]
  },
  {
   "cell_type": "markdown",
   "metadata": {},
   "source": [
    "<hr size=3>\n",
    "<a name=basis></a>\n",
    "<h2><a href=\"#top\">^</a> Basis Problems</h2>\n",
    "<ul class=sp>\n",
    "<li>In all of these problems, the original vector is given in the\n",
    "            \"standard\" basis (1, 0) and (0, 1).</li>\n",
    "<li> All vectors in these problems are column vectors.</li>\n",
    "</ul>"
   ]
  },
  {
   "cell_type": "code",
   "execution_count": null,
   "metadata": {},
   "outputs": [],
   "source": [
    "prob = change_basis_problem(max_int=5, complex=False)\n",
    "prob.new()"
   ]
  },
  {
   "cell_type": "code",
   "execution_count": null,
   "metadata": {},
   "outputs": [],
   "source": [
    "answer = col(0,0)\n",
    "prob.check(answer)"
   ]
  },
  {
   "cell_type": "markdown",
   "metadata": {},
   "source": [
    "<hr size=3>\n",
    "<a name=projections></a>\n",
    "<h2><a href=\"#top\">^</a> Draw Projections</h2>\n",
    "<ul class=sp>\n",
    "<li> Pick the cell below that is closest to the problem you're interested in and then modify it for your problem.</li>\n",
    "</ul>"
   ]
  },
  {
   "cell_type": "code",
   "execution_count": null,
   "metadata": {},
   "outputs": [],
   "source": [
    "draw_projections(vector(1,0), vector(0,1), vector(-4,1))"
   ]
  },
  {
   "cell_type": "code",
   "execution_count": null,
   "metadata": {},
   "outputs": [],
   "source": [
    "draw_projections(vector(-1,0), vector(0,-1), vector(-4,1))"
   ]
  },
  {
   "cell_type": "code",
   "execution_count": null,
   "metadata": {},
   "outputs": [],
   "source": [
    "draw_projections(1/sqrt(2)*vector(1,1), 1/sqrt(2)*vector(1,-1), vector(-4,1))"
   ]
  },
  {
   "cell_type": "code",
   "execution_count": null,
   "metadata": {},
   "outputs": [],
   "source": [
    "draw_projections(1/sqrt(5)*vector(2,1), 1/sqrt(5)*vector(-1,2), vector(-4,1))"
   ]
  },
  {
   "cell_type": "markdown",
   "metadata": {},
   "source": [
    "<hr size=3>\n",
    "<a name=electron1></a>\n",
    "<h2><a href=\"#top\">^</a> Electron Spin</h2>\n",
    "<ul class=sp>\n",
    "<li>The \"use_y\" flag will determine whether y spin states are included.</li>\n",
    "<li>The \"complex\" flag tells whether to include complex amplitudes.</li>\n",
    "</ul>"
   ]
  },
  {
   "cell_type": "code",
   "execution_count": null,
   "metadata": {},
   "outputs": [],
   "source": [
    "set_font_size(3) # Font size of 3 or 4 works pretty well\n",
    "z=1; x=2; y=3 # Don't change this line!!!\n",
    "prob = electron_problem(\n",
    "    min_int=0, max_int=5, use_y=False, complex=False)\n",
    "#prob.set_debug(True) # Probably leave this commented out\n",
    "prob.new()"
   ]
  },
  {
   "cell_type": "code",
   "execution_count": null,
   "metadata": {},
   "outputs": [],
   "source": [
    "answer = 10/23\n",
    "prob.check(answer)"
   ]
  },
  {
   "cell_type": "markdown",
   "metadata": {},
   "source": [
    "<hr size=3>\n",
    "<p>\n",
    "<font color=red>\n",
    "You can ignore everything below this point.\n",
    "</font>\n",
    "</p>\n",
    "<hr size=3>"
   ]
  },
  {
   "cell_type": "code",
   "execution_count": null,
   "metadata": {},
   "outputs": [],
   "source": [
    "Print(prob.latex)"
   ]
  },
  {
   "cell_type": "code",
   "execution_count": null,
   "metadata": {},
   "outputs": [],
   "source": [
    "print(prob.latex)"
   ]
  },
  {
   "cell_type": "code",
   "execution_count": null,
   "metadata": {},
   "outputs": [],
   "source": []
  }
 ],
 "metadata": {
  "kernelspec": {
   "display_name": "Python 3",
   "language": "python",
   "name": "python3"
  },
  "language_info": {
   "codemirror_mode": {
    "name": "ipython",
    "version": 3
   },
   "file_extension": ".py",
   "mimetype": "text/x-python",
   "name": "python",
   "nbconvert_exporter": "python",
   "pygments_lexer": "ipython3",
   "version": "3.6.5"
  }
 },
 "nbformat": 4,
 "nbformat_minor": 1
}
